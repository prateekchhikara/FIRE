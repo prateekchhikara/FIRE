{
 "cells": [
  {
   "cell_type": "code",
   "execution_count": null,
   "metadata": {},
   "outputs": [],
   "source": [
    "import json\n",
    "from tqdm import tqdm\n",
    "from PIL import Image\n",
    "from glob import glob\n",
    "import os"
   ]
  },
  {
   "attachments": {},
   "cell_type": "markdown",
   "metadata": {},
   "source": [
    "### Remove empty folders recursively"
   ]
  },
  {
   "cell_type": "code",
   "execution_count": null,
   "metadata": {},
   "outputs": [],
   "source": [
    "def remove_empty_folders(path):\n",
    "    \"\"\"\n",
    "        Remove empty folders recursively\n",
    "    \"\"\"\n",
    "    for root, dirs, files in os.walk(path, topdown=False):\n",
    "        for dir in dirs:\n",
    "            folder = os.path.join(root, dir)\n",
    "            if not os.listdir(folder):\n",
    "                os.rmdir(folder)\n",
    "                print(f'Removed empty folder: {folder}')\n",
    "                \n",
    "remove_empty_folders(\"test/\") # test folder name\n",
    "remove_empty_folders(\"train/\") # train folder name\n",
    "remove_empty_folders(\"val/\") # val folder name"
   ]
  },
  {
   "attachments": {},
   "cell_type": "markdown",
   "metadata": {},
   "source": [
    "### Remove images which cannot be loaded by PIL"
   ]
  },
  {
   "cell_type": "code",
   "execution_count": null,
   "metadata": {},
   "outputs": [],
   "source": [
    "def remove_images(path):\n",
    "    \"\"\"\n",
    "        Remove images which are not in RGB format\n",
    "    \"\"\"\n",
    "    count = 0\n",
    "    empty_folders = 0\n",
    "    for recipe in tqdm(recipe_ids):\n",
    "        all_images = glob(recipe + \"/*g\")\n",
    "        if len(all_images) == 0:\n",
    "            empty_folders += 1\n",
    "            continue\n",
    "        for im in all_images:\n",
    "            try:\n",
    "                image = Image.open(im).convert('RGB')\n",
    "            except Exception as e:\n",
    "                print(im)\n",
    "                os.remove(im)\n",
    "                count += 1\n",
    "\n",
    "\n",
    "parent_folder = \"val/\" # test, train, val\n",
    "recipe_ids = glob(parent_folder + \"/*\")\n",
    "print(len(recipe_ids))\n",
    "\n",
    "remove_images(parent_folder)"
   ]
  },
  {
   "cell_type": "code",
   "execution_count": null,
   "metadata": {},
   "outputs": [],
   "source": [
    "all_recipe = glob(\"train/*\") + glob(\"val/*\") + glob(\"test/*\")\n",
    "all_recipe_names = [i.split(\"/\")[-1] for i in all_recipe]\n",
    "print(len(all_recipe_names))"
   ]
  },
  {
   "cell_type": "code",
   "execution_count": null,
   "metadata": {},
   "outputs": [],
   "source": [
    "\n",
    "with open(\"dataset.json\", \"r\") as f: # dataset.json file path\n",
    "    ingrs = json.load(f)\n",
    "    \n",
    "print(len(ingrs))\n",
    "    \n",
    "det_ingrs_new = []\n",
    "missing = 0\n",
    "for k in tqdm(ingrs):\n",
    "    if k[\"id\"] in all_recipe_names:\n",
    "        det_ingrs_new.append(k)\n",
    "    else:\n",
    "        missing += 1\n",
    "        \n",
    "with open(\"dataset_save.json\", \"w+\") as f: # dataset_save.json file path\n",
    "    json.dump(det_ingrs_new, f)"
   ]
  }
 ],
 "metadata": {
  "kernelspec": {
   "display_name": "base",
   "language": "python",
   "name": "python3"
  },
  "language_info": {
   "codemirror_mode": {
    "name": "ipython",
    "version": 3
   },
   "file_extension": ".py",
   "mimetype": "text/x-python",
   "name": "python",
   "nbconvert_exporter": "python",
   "pygments_lexer": "ipython3",
   "version": "3.7.13"
  },
  "orig_nbformat": 4
 },
 "nbformat": 4,
 "nbformat_minor": 2
}
