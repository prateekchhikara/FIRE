{
 "cells": [
  {
   "cell_type": "code",
   "execution_count": null,
   "id": "bd939cc0",
   "metadata": {},
   "outputs": [],
   "source": [
    "import os\n",
    "import json\n",
    "import numpy as np\n",
    "import pandas as pd\n",
    "import spacy\n",
    "from tqdm import tqdm\n",
    "import json\n",
    "import time\n",
    "import spacy\n",
    "import re\n",
    "nlp = spacy.load(\"en_core_web_sm\")"
   ]
  },
  {
   "attachments": {},
   "cell_type": "markdown",
   "id": "7248c483",
   "metadata": {},
   "source": [
    "#### Read prompting result file and preprocess the data"
   ]
  },
  {
   "cell_type": "code",
   "execution_count": null,
   "id": "e4e9775c",
   "metadata": {},
   "outputs": [],
   "source": [
    "file_path = \"prompting_result_200.npy\"\n",
    "code_generation = np.load(file_path, allow_pickle=True)"
   ]
  },
  {
   "cell_type": "code",
   "execution_count": null,
   "id": "7630327c",
   "metadata": {},
   "outputs": [],
   "source": [
    "def splitfeedback(sample):\n",
    "    feedback = sample['feedback']\n",
    "    step_result = {}\n",
    "    for step_feedback in feedback.split('\\n    def ')[1:]:\n",
    "        key = step_feedback.replace('()','').split(':')[0]\n",
    "        ### previous setting of temp is 0.7, which may bring some random \\n\\n main\n",
    "        code_step =  [_.lstrip() for _ in step_feedback.split('\\n\\n')[0].split('\\n ')[1:]]\n",
    "        step_result[key] = code_step\n",
    "        \n",
    "    return step_result"
   ]
  },
  {
   "cell_type": "code",
   "execution_count": null,
   "id": "4659ec14",
   "metadata": {},
   "outputs": [],
   "source": [
    "for item in code_generation:\n",
    "    item['step_result'] = splitfeedback(item)"
   ]
  },
  {
   "attachments": {},
   "cell_type": "markdown",
   "id": "c463a4ef",
   "metadata": {},
   "source": [
    "#### get raw operation and parameters"
   ]
  },
  {
   "cell_type": "code",
   "execution_count": null,
   "id": "aaf8ad4e",
   "metadata": {
    "scrolled": false
   },
   "outputs": [],
   "source": [
    "operation_set = set()\n",
    "parameter_set = set()\n",
    "operation_dict = {}\n",
    "parameter_dict = {}\n",
    "for index,sample in enumerate(code_generation):\n",
    "        sample_result = sample['step_result']\n",
    "        for sen,step in sample_result.items():\n",
    "            for code in step:\n",
    "                try:\n",
    "                    operation = code.split(' = ')[1].split('(')[0].lstrip().lower()\n",
    "                    operation_set.add(operation.lstrip().rstrip())\n",
    "                    if operation == 'strain':\n",
    "                                print(sen+\":\"+code)\n",
    "                    operation_dict[operation] = operation_dict[operation] + 1 if operation in operation_dict.keys() else 1\n",
    "                    parameter_list = code.split('(')[1].split(')')[0].split(',')\n",
    "                    for step_parameter in parameter_list:\n",
    "                        if '=' in step_parameter:\n",
    "                            parameter = step_parameter.split('=')[0].lstrip()\n",
    "                            if parameter == 'ingredient':\n",
    "                                print(index)\n",
    "                            parameter_set.add(parameter)\n",
    "                            parameter_dict[parameter] = parameter_dict[parameter] + 1 if parameter in parameter_dict.keys() else 1\n",
    "                except:\n",
    "                    print('wrong at {} because {}'.format(index,code))"
   ]
  },
  {
   "attachments": {},
   "cell_type": "markdown",
   "id": "729c1553",
   "metadata": {},
   "source": [
    "#### selected operation and parameter"
   ]
  },
  {
   "cell_type": "code",
   "execution_count": null,
   "id": "067d4bc9",
   "metadata": {},
   "outputs": [],
   "source": [
    "operation_dict = sorted(operation_dict.items(),key = lambda x:x[1],reverse = True)\n",
    "parameter_dict = sorted(parameter_dict.items(),key = lambda x:x[1],reverse = True)"
   ]
  },
  {
   "cell_type": "code",
   "execution_count": null,
   "id": "61733a99",
   "metadata": {},
   "outputs": [],
   "source": [
    "Operation_Dict = {'add':['add','top'],\n",
    "                 'serve':['serve'],\n",
    "                 'stir':['stir'],\n",
    "                 'cook':['cook','saute'],\n",
    "                 'place':['place','transfer','put','spoon','arrange','line','set','set_aside','return','let_stand','strain'],\n",
    "                 'bake':['bake','grill','toast','roast','broil'],\n",
    "                 'mix':['mix','combine','pour','toss','blend','puree','cream','shake'],\n",
    "                 'preheat':['preheat'],\n",
    "                 'heat':['heat','melt','brown','microwave'],\n",
    "                 'cool':['cool','refrigerate','reduce','chill','freeze'],\n",
    "                 'remove':['remove'],\n",
    "                 'cover':['cover','seal'],\n",
    "                 'sprinkle':['sprinkle','whisk'],\n",
    "                 'cut':['cut','divide','slice','break','chop','peel','dice'],\n",
    "                 'boil':['boil'],\n",
    "                 'beat' :['beat'],\n",
    "                 'simmer':['simmer'],\n",
    "                 'drain':['drain'],\n",
    "                 'season': ['season'],\n",
    "                 'shape' : ['shape','fold','roll','press','knead','flatten','rise'],\n",
    "                 'garnish':['garnish'],\n",
    "                 'fry':['fry'],\n",
    "                 'fill':['fill'],\n",
    "                 'spread':['rub','spread','dip','grease','coat','brush'],\n",
    "                 'spray':['spray','drizzle','scatter'],\n",
    "                 'filt':['sift','scoop'],\n",
    "                 'crush':['crush','mash'],\n",
    "                 'steam':['steam'],\n",
    "                 'dissolve':['dissolve'],\n",
    "                 'make':['make','process','check','store','turn','measure']\n",
    "                 }\n",
    "\n",
    "Parameter_list = ['how','container','time','temp','tool','size','amount','speed','salt','pepper']"
   ]
  },
  {
   "cell_type": "code",
   "execution_count": null,
   "id": "4d249c1a",
   "metadata": {},
   "outputs": [],
   "source": [
    "Operation_reverse_dict = {}\n",
    "for key,value_list in Operation_Dict.items():\n",
    "    for value in value_list:\n",
    "        Operation_reverse_dict[value]=key"
   ]
  },
  {
   "attachments": {},
   "cell_type": "markdown",
   "id": "e85a14e4",
   "metadata": {},
   "source": [
    "#### Transfer to Symbolic Triplem"
   ]
  },
  {
   "cell_type": "code",
   "execution_count": null,
   "id": "bc2febdc",
   "metadata": {},
   "outputs": [],
   "source": [
    "sample = code_generation[0]\n",
    "step_result = sample['step_result']\n",
    "step_triple = []\n",
    "# (input , operation_dict, output)\n",
    "for sen,step_func_list in step_result.items():\n",
    "    for step_func in step_func_list:\n",
    "        step_output = step_func.split(\" = \")[0]\n",
    "        operation_detail = {}\n",
    "        step_operation = step_func.split(\" = \")[1].split(\"(\")[0].lower()\n",
    "        operation_detail['orginal_step_operation']=step_operation\n",
    "        step_operation = Operation_reverse_dict.get(step_operation,'make').capitalize()  \n",
    "        operation_detail['step_operation']=step_operation\n",
    "        function_detail = step_func.split('(')[1].split(')')[0]\n",
    "        step_input = [_.strip() for _ in function_detail.split(', ') if \"=\" not in _]\n",
    "        step_parameter = [_.strip() for _ in function_detail.split(', ') if \"=\" in _]\n",
    "        step_parameter,_ = filterParameter(step_parameter)\n",
    "        if _ is not None:\n",
    "            step_input.append(_)\n",
    "        operation_detail['step_parameter']=step_parameter\n",
    "        step_triple.append((step_input,operation_detail,step_output))"
   ]
  },
  {
   "cell_type": "code",
   "execution_count": null,
   "id": "500ea261",
   "metadata": {},
   "outputs": [],
   "source": [
    "for item in code_generation[0]['instructions']:\n",
    "    print(item['text'])"
   ]
  },
  {
   "cell_type": "code",
   "execution_count": null,
   "id": "7499b9dc",
   "metadata": {},
   "outputs": [],
   "source": [
    "step_triple"
   ]
  },
  {
   "cell_type": "code",
   "execution_count": null,
   "id": "6cd848d6",
   "metadata": {},
   "outputs": [],
   "source": [
    "original_input = []\n",
    "for step in step_triple:\n",
    "    for ingredient in step[0]:\n",
    "        if not ingredient.replace('h',\"\").isdigit():\n",
    "            original_input.append(ingredient)"
   ]
  },
  {
   "cell_type": "code",
   "execution_count": null,
   "id": "c83490b1",
   "metadata": {},
   "outputs": [],
   "source": [
    "operation_list = []\n",
    "for step in step_triple:\n",
    "    func_dict = step[1]\n",
    "    operation_list.append(func_dict['step_operation'])"
   ]
  },
  {
   "attachments": {},
   "cell_type": "markdown",
   "id": "71af34ff",
   "metadata": {},
   "source": [
    "# Utils"
   ]
  },
  {
   "cell_type": "code",
   "execution_count": null,
   "id": "9abaaa44",
   "metadata": {},
   "outputs": [],
   "source": [
    "def filterParameter(step_parameter):\n",
    "    filter_parameter = []\n",
    "    ### special for ingredient\n",
    "    ingredient = None\n",
    "    for item in step_parameter:\n",
    "        parameter_name = item.split('=')[0]\n",
    "        parameter_value = item.split('=')[1]\n",
    "        if parameter_name in Parameter_list:\n",
    "            filter_parameter.append((parameter_name,parameter_value))\n",
    "        if parameter_name == 'until':\n",
    "            filter_parameter.append(('how','until_'+parameter_value))\n",
    "        if parameter_name == 'heat':\n",
    "            filter_parameter.append(('temp',parameter_value+'_heat'))\n",
    "        if parameter_name == 'ingredient':\n",
    "            ingredient = parameter_value\n",
    "    return filter_parameter,ingredient"
   ]
  },
  {
   "cell_type": "code",
   "execution_count": null,
   "id": "9a817b09",
   "metadata": {},
   "outputs": [],
   "source": []
  }
 ],
 "metadata": {
  "kernelspec": {
   "display_name": "Python 3 (ipykernel)",
   "language": "python",
   "name": "python3"
  },
  "language_info": {
   "codemirror_mode": {
    "name": "ipython",
    "version": 3
   },
   "file_extension": ".py",
   "mimetype": "text/x-python",
   "name": "python",
   "nbconvert_exporter": "python",
   "pygments_lexer": "ipython3",
   "version": "3.7.13"
  }
 },
 "nbformat": 4,
 "nbformat_minor": 5
}
